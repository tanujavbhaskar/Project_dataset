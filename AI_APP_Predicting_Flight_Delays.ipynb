{
 "cells": [
  {
   "cell_type": "markdown",
   "id": "97eab238-1b2d-4087-ae21-9486b96e058d",
   "metadata": {},
   "source": [
    "# Prdedicting Departure Delays of flights\n",
    "\n",
    "# Problem:\n",
    "<b>Departure delays of flight causes problem to the customer as well as losses in business in the airline.\n",
    "It results in increased travel time and increased expenses on food and lodging for customers. Delays in departure \n",
    "can cause much more to airlines and result in loss.\n",
    "For example,the customers can claim the flight delay compensation. \n",
    "In US it causes around 700 dollars (excluding food and accomodation).Evenshort delays can occur penalties of $200. \n",
    "Which is big hit to the business just because of flight delays.</b>\n",
    "\n",
    "# Solution: \n",
    "<b>Predicting delays to prevent loss in time or business. I used linear regression model to predict the departure delays<b>\n",
    "\n",
    "#Risk & Benefits\n",
    "<b>Risk: The model must accurately predict delay because one flight delay can affect the further connecting flights schedules.</b>\n"
    "<b>Benefits: By this model, it can be made sure that the schedules are better managed, and  </b> \n"
    
   \n",
    "the functioning of that airport can be improved to avoid such delays.</b>\n"
   ]
  },
  {
   "cell_type": "markdown",
   "id": "eac33789-8a66-4e39-afa6-01da47a7b8b1",
   "metadata": {},
   "source": [
    "# Data\n",
    "<b>Flight is from kaggle.\n",
    "Data link -https://www.kaggle.com/miquar/explore-flights-csv-airports-csv-airlines-csv/data\n",
    "</b>"
   ]
  },
  {
   "cell_type": "markdown",
   "id": "cdfc2f84-90a2-4b42-84f2-951b99f4dcbd",
   "metadata": {},
   "source": [
    "<b>This data set is a summary of different air carriers showing their departure delays, arrival delays, \n",
    "scheduled departure, etc.</b>\n"
   ]
  },
  {
   "cell_type": "code",
   "execution_count": 2,
   "id": "149c73bd-d6c1-496c-be2e-e9240615ba02",
   "metadata": {},
   "outputs": [],
   "source": [
    "#Import Libraries\n",
    "import pandas as pd\n",
    "import numpy as np\n",
    "import matplotlib.pyplot as plt\n",
    "import time"
   ]
  },
  {
   "cell_type": "code",
   "execution_count": 59,
   "id": "1fcc0454-1eaf-4688-a580-5969826b099a",
   "metadata": {},
   "outputs": [
    {
     "name": "stderr",
     "output_type": "stream",
     "text": [
      "/home/jupyterlab/conda/envs/python/lib/python3.7/site-packages/IPython/core/interactiveshell.py:3524: DtypeWarning: Columns (7,8) have mixed types.Specify dtype option on import or set low_memory=False.\n",
      "  exec(code_obj, self.user_global_ns, self.user_ns)\n"
     ]
    }
   ],
   "source": [
    "# Uploaded data in the liabrary.\n",
    "\n",
    "df_use=pd.read_csv(\"../AI/flights.csv\")"
   ]
  },
  {
   "cell_type": "code",
   "execution_count": 4,
   "id": "7f9ffda1-a8bc-4eef-a399-493ddcee4004",
   "metadata": {},
   "outputs": [],
   "source": [
    "# The flights data set contains 1049000 rows of flights data of 14 different carriers in the year 2015.\n",
    "# For the project, I have used the first 10000\n",
    "\n",
    "df=df_use.sample(n=10000).copy()"
   ]
  },
  {
   "cell_type": "code",
   "execution_count": 5,
   "id": "b21f1ec8-56c1-467a-bdb1-e02ba560b8b8",
   "metadata": {},
   "outputs": [],
   "source": [
    "del df_use"
   ]
  },
  {
   "cell_type": "code",
   "execution_count": 6,
   "id": "3be3dda2-6854-4100-a85b-e31e71bf43aa",
   "metadata": {},
   "outputs": [
    {
     "data": {
      "text/html": [
       "<div>\n",
       "<style scoped>\n",
       "    .dataframe tbody tr th:only-of-type {\n",
       "        vertical-align: middle;\n",
       "    }\n",
       "\n",
       "    .dataframe tbody tr th {\n",
       "        vertical-align: top;\n",
       "    }\n",
       "\n",
       "    .dataframe thead th {\n",
       "        text-align: right;\n",
       "    }\n",
       "</style>\n",
       "<table border=\"1\" class=\"dataframe\">\n",
       "  <thead>\n",
       "    <tr style=\"text-align: right;\">\n",
       "      <th></th>\n",
       "      <th>YEAR</th>\n",
       "      <th>MONTH</th>\n",
       "      <th>DAY</th>\n",
       "      <th>DAY_OF_WEEK</th>\n",
       "      <th>AIRLINE</th>\n",
       "      <th>FLIGHT_NUMBER</th>\n",
       "      <th>TAIL_NUMBER</th>\n",
       "      <th>ORIGIN_AIRPORT</th>\n",
       "      <th>DESTINATION_AIRPORT</th>\n",
       "      <th>SCHEDULED_DEPARTURE</th>\n",
       "      <th>...</th>\n",
       "      <th>ARRIVAL_TIME</th>\n",
       "      <th>ARRIVAL_DELAY</th>\n",
       "      <th>DIVERTED</th>\n",
       "      <th>CANCELLED</th>\n",
       "      <th>CANCELLATION_REASON</th>\n",
       "      <th>AIR_SYSTEM_DELAY</th>\n",
       "      <th>SECURITY_DELAY</th>\n",
       "      <th>AIRLINE_DELAY</th>\n",
       "      <th>LATE_AIRCRAFT_DELAY</th>\n",
       "      <th>WEATHER_DELAY</th>\n",
       "    </tr>\n",
       "  </thead>\n",
       "  <tbody>\n",
       "    <tr>\n",
       "      <th>5209445</th>\n",
       "      <td>2015</td>\n",
       "      <td>11</td>\n",
       "      <td>22</td>\n",
       "      <td>7</td>\n",
       "      <td>MQ</td>\n",
       "      <td>3119</td>\n",
       "      <td>N640MQ</td>\n",
       "      <td>DFW</td>\n",
       "      <td>BTR</td>\n",
       "      <td>1150</td>\n",
       "      <td>...</td>\n",
       "      <td>1256.0</td>\n",
       "      <td>-18.0</td>\n",
       "      <td>0</td>\n",
       "      <td>0</td>\n",
       "      <td>NaN</td>\n",
       "      <td>NaN</td>\n",
       "      <td>NaN</td>\n",
       "      <td>NaN</td>\n",
       "      <td>NaN</td>\n",
       "      <td>NaN</td>\n",
       "    </tr>\n",
       "    <tr>\n",
       "      <th>3365110</th>\n",
       "      <td>2015</td>\n",
       "      <td>7</td>\n",
       "      <td>29</td>\n",
       "      <td>3</td>\n",
       "      <td>UA</td>\n",
       "      <td>1003</td>\n",
       "      <td>N39415</td>\n",
       "      <td>LAX</td>\n",
       "      <td>ORD</td>\n",
       "      <td>1151</td>\n",
       "      <td>...</td>\n",
       "      <td>1758.0</td>\n",
       "      <td>-1.0</td>\n",
       "      <td>0</td>\n",
       "      <td>0</td>\n",
       "      <td>NaN</td>\n",
       "      <td>NaN</td>\n",
       "      <td>NaN</td>\n",
       "      <td>NaN</td>\n",
       "      <td>NaN</td>\n",
       "      <td>NaN</td>\n",
       "    </tr>\n",
       "    <tr>\n",
       "      <th>4329813</th>\n",
       "      <td>2015</td>\n",
       "      <td>9</td>\n",
       "      <td>27</td>\n",
       "      <td>7</td>\n",
       "      <td>OO</td>\n",
       "      <td>4978</td>\n",
       "      <td>N766SK</td>\n",
       "      <td>IAH</td>\n",
       "      <td>SLC</td>\n",
       "      <td>1430</td>\n",
       "      <td>...</td>\n",
       "      <td>1709.0</td>\n",
       "      <td>30.0</td>\n",
       "      <td>0</td>\n",
       "      <td>0</td>\n",
       "      <td>NaN</td>\n",
       "      <td>17.0</td>\n",
       "      <td>0.0</td>\n",
       "      <td>13.0</td>\n",
       "      <td>0.0</td>\n",
       "      <td>0.0</td>\n",
       "    </tr>\n",
       "    <tr>\n",
       "      <th>3592708</th>\n",
       "      <td>2015</td>\n",
       "      <td>8</td>\n",
       "      <td>11</td>\n",
       "      <td>2</td>\n",
       "      <td>EV</td>\n",
       "      <td>4927</td>\n",
       "      <td>N391CA</td>\n",
       "      <td>ATL</td>\n",
       "      <td>LNK</td>\n",
       "      <td>1943</td>\n",
       "      <td>...</td>\n",
       "      <td>2136.0</td>\n",
       "      <td>24.0</td>\n",
       "      <td>0</td>\n",
       "      <td>0</td>\n",
       "      <td>NaN</td>\n",
       "      <td>24.0</td>\n",
       "      <td>0.0</td>\n",
       "      <td>0.0</td>\n",
       "      <td>0.0</td>\n",
       "      <td>0.0</td>\n",
       "    </tr>\n",
       "    <tr>\n",
       "      <th>2301135</th>\n",
       "      <td>2015</td>\n",
       "      <td>5</td>\n",
       "      <td>26</td>\n",
       "      <td>2</td>\n",
       "      <td>EV</td>\n",
       "      <td>5430</td>\n",
       "      <td>N181PQ</td>\n",
       "      <td>ATL</td>\n",
       "      <td>GSO</td>\n",
       "      <td>1747</td>\n",
       "      <td>...</td>\n",
       "      <td>2213.0</td>\n",
       "      <td>189.0</td>\n",
       "      <td>0</td>\n",
       "      <td>0</td>\n",
       "      <td>NaN</td>\n",
       "      <td>0.0</td>\n",
       "      <td>0.0</td>\n",
       "      <td>34.0</td>\n",
       "      <td>155.0</td>\n",
       "      <td>0.0</td>\n",
       "    </tr>\n",
       "  </tbody>\n",
       "</table>\n",
       "<p>5 rows × 31 columns</p>\n",
       "</div>"
      ],
      "text/plain": [
       "         YEAR  MONTH  DAY  DAY_OF_WEEK AIRLINE  FLIGHT_NUMBER TAIL_NUMBER  \\\n",
       "5209445  2015     11   22            7      MQ           3119      N640MQ   \n",
       "3365110  2015      7   29            3      UA           1003      N39415   \n",
       "4329813  2015      9   27            7      OO           4978      N766SK   \n",
       "3592708  2015      8   11            2      EV           4927      N391CA   \n",
       "2301135  2015      5   26            2      EV           5430      N181PQ   \n",
       "\n",
       "        ORIGIN_AIRPORT DESTINATION_AIRPORT  SCHEDULED_DEPARTURE  ...  \\\n",
       "5209445            DFW                 BTR                 1150  ...   \n",
       "3365110            LAX                 ORD                 1151  ...   \n",
       "4329813            IAH                 SLC                 1430  ...   \n",
       "3592708            ATL                 LNK                 1943  ...   \n",
       "2301135            ATL                 GSO                 1747  ...   \n",
       "\n",
       "         ARRIVAL_TIME  ARRIVAL_DELAY  DIVERTED  CANCELLED  \\\n",
       "5209445        1256.0          -18.0         0          0   \n",
       "3365110        1758.0           -1.0         0          0   \n",
       "4329813        1709.0           30.0         0          0   \n",
       "3592708        2136.0           24.0         0          0   \n",
       "2301135        2213.0          189.0         0          0   \n",
       "\n",
       "         CANCELLATION_REASON  AIR_SYSTEM_DELAY  SECURITY_DELAY  AIRLINE_DELAY  \\\n",
       "5209445                  NaN               NaN             NaN            NaN   \n",
       "3365110                  NaN               NaN             NaN            NaN   \n",
       "4329813                  NaN              17.0             0.0           13.0   \n",
       "3592708                  NaN              24.0             0.0            0.0   \n",
       "2301135                  NaN               0.0             0.0           34.0   \n",
       "\n",
       "         LATE_AIRCRAFT_DELAY  WEATHER_DELAY  \n",
       "5209445                  NaN            NaN  \n",
       "3365110                  NaN            NaN  \n",
       "4329813                  0.0            0.0  \n",
       "3592708                  0.0            0.0  \n",
       "2301135                155.0            0.0  \n",
       "\n",
       "[5 rows x 31 columns]"
      ]
     },
     "execution_count": 6,
     "metadata": {},
     "output_type": "execute_result"
    }
   ],
   "source": [
    "df.head()"
   ]
  },
  {
   "cell_type": "code",
   "execution_count": 60,
   "id": "d08e07ac-bef3-4ea9-85a3-303bdb0034b8",
   "metadata": {},
   "outputs": [
    {
     "data": {
      "text/plain": [
       "DEPARTURE_DELAY\n",
       "-33.0      1\n",
       "-26.0      2\n",
       "-23.0      5\n",
       "-22.0      2\n",
       "-21.0      1\n",
       "          ..\n",
       " 797.0     1\n",
       " 888.0     1\n",
       " 905.0     1\n",
       " 1140.0    1\n",
       " 1304.0    1\n",
       "Length: 261, dtype: int64"
      ]
     },
     "execution_count": 60,
     "metadata": {},
     "output_type": "execute_result"
    }
   ],
   "source": [
    "# The column 'DEPARTURE_DELAY' will be used to predict if there will be a delay  or not.\n",
    "\n",
    "# Positive values indicate delays while negative values indicate no delay or early departures\n",
    "df.groupby('DEPARTURE_DELAY').size()"
   ]
  },
  {
   "cell_type": "code",
   "execution_count": 8,
   "id": "7abbde69-bf3c-4d21-bc84-202f42b9da93",
   "metadata": {},
   "outputs": [],
   "source": [
    "# column CANCELLED  will also be used in the model.\n",
    "# If flight cancelled , no delay in departure.\n",
    "# values are assigned to 1 and 0\n",
    "\n",
    "df=df.loc[~df.CANCELLED.isin([1])]"
   ]
  },
  {
   "cell_type": "code",
   "execution_count": 9,
   "id": "88894d07-c458-4778-83b9-de5780fc3bc5",
   "metadata": {},
   "outputs": [],
   "source": [
    "# define output variable for our classification problem\n",
    "\n",
    "df['OUTPUT_LABEL']=(df.DEPARTURE_DELAY >=0).astype('int')"
   ]
  },
  {
   "cell_type": "code",
   "execution_count": 10,
   "id": "c197a655-1e3d-489d-bad9-007caefdb9e9",
   "metadata": {},
   "outputs": [],
   "source": [
    "# Define prevalence\n",
    "# The quality or state of being prevalent means the percentage of of the flight carriers\n",
    "# that will have a delay in their departure.\n",
    "\n",
    "\n",
    "def calc_prevalence(y_actual):\n",
    "        return (sum(y_actual)/len(y_actual))"
   ]
  },
  {
   "cell_type": "code",
   "execution_count": 11,
   "id": "8411815e-cae9-46ef-a869-899fc08d2177",
   "metadata": {},
   "outputs": [
    {
     "name": "stdout",
     "output_type": "stream",
     "text": [
      "Prevalence:0.432\n"
     ]
    }
   ],
   "source": [
    "print('Prevalence:%.3f'%calc_prevalence(df['OUTPUT_LABEL'].values))"
   ]
  },
  {
   "cell_type": "code",
   "execution_count": null,
   "id": "e4c2db82-2e1f-4872-ab66-5e8cd00fb096",
   "metadata": {},
   "outputs": [],
   "source": [
    "# That approximately 43% of the flights will have a departure delay. This shows an imbalance."
   ]
  },
  {
   "cell_type": "code",
   "execution_count": 12,
   "id": "8d206560-7ac3-4e12-8411-14efb8696ad5",
   "metadata": {},
   "outputs": [],
   "source": [
    "df_airports= pd.read_csv('../AI/airports.csv')"
   ]
  },
  {
   "cell_type": "code",
   "execution_count": 13,
   "id": "71c8672c-19c9-449e-831c-a02b98605056",
   "metadata": {},
   "outputs": [
    {
     "data": {
      "text/html": [
       "<div>\n",
       "<style scoped>\n",
       "    .dataframe tbody tr th:only-of-type {\n",
       "        vertical-align: middle;\n",
       "    }\n",
       "\n",
       "    .dataframe tbody tr th {\n",
       "        vertical-align: top;\n",
       "    }\n",
       "\n",
       "    .dataframe thead th {\n",
       "        text-align: right;\n",
       "    }\n",
       "</style>\n",
       "<table border=\"1\" class=\"dataframe\">\n",
       "  <thead>\n",
       "    <tr style=\"text-align: right;\">\n",
       "      <th></th>\n",
       "      <th>IATA_CODE</th>\n",
       "      <th>AIRPORT</th>\n",
       "      <th>CITY</th>\n",
       "      <th>STATE</th>\n",
       "      <th>COUNTRY</th>\n",
       "      <th>LATITUDE</th>\n",
       "      <th>LONGITUDE</th>\n",
       "    </tr>\n",
       "  </thead>\n",
       "  <tbody>\n",
       "    <tr>\n",
       "      <th>0</th>\n",
       "      <td>ABE</td>\n",
       "      <td>Lehigh Valley International Airport</td>\n",
       "      <td>Allentown</td>\n",
       "      <td>PA</td>\n",
       "      <td>USA</td>\n",
       "      <td>40.65236</td>\n",
       "      <td>-75.44040</td>\n",
       "    </tr>\n",
       "    <tr>\n",
       "      <th>1</th>\n",
       "      <td>ABI</td>\n",
       "      <td>Abilene Regional Airport</td>\n",
       "      <td>Abilene</td>\n",
       "      <td>TX</td>\n",
       "      <td>USA</td>\n",
       "      <td>32.41132</td>\n",
       "      <td>-99.68190</td>\n",
       "    </tr>\n",
       "    <tr>\n",
       "      <th>2</th>\n",
       "      <td>ABQ</td>\n",
       "      <td>Albuquerque International Sunport</td>\n",
       "      <td>Albuquerque</td>\n",
       "      <td>NM</td>\n",
       "      <td>USA</td>\n",
       "      <td>35.04022</td>\n",
       "      <td>-106.60919</td>\n",
       "    </tr>\n",
       "    <tr>\n",
       "      <th>3</th>\n",
       "      <td>ABR</td>\n",
       "      <td>Aberdeen Regional Airport</td>\n",
       "      <td>Aberdeen</td>\n",
       "      <td>SD</td>\n",
       "      <td>USA</td>\n",
       "      <td>45.44906</td>\n",
       "      <td>-98.42183</td>\n",
       "    </tr>\n",
       "    <tr>\n",
       "      <th>4</th>\n",
       "      <td>ABY</td>\n",
       "      <td>Southwest Georgia Regional Airport</td>\n",
       "      <td>Albany</td>\n",
       "      <td>GA</td>\n",
       "      <td>USA</td>\n",
       "      <td>31.53552</td>\n",
       "      <td>-84.19447</td>\n",
       "    </tr>\n",
       "  </tbody>\n",
       "</table>\n",
       "</div>"
      ],
      "text/plain": [
       "  IATA_CODE                              AIRPORT         CITY STATE COUNTRY  \\\n",
       "0       ABE  Lehigh Valley International Airport    Allentown    PA     USA   \n",
       "1       ABI             Abilene Regional Airport      Abilene    TX     USA   \n",
       "2       ABQ    Albuquerque International Sunport  Albuquerque    NM     USA   \n",
       "3       ABR            Aberdeen Regional Airport     Aberdeen    SD     USA   \n",
       "4       ABY   Southwest Georgia Regional Airport       Albany    GA     USA   \n",
       "\n",
       "   LATITUDE  LONGITUDE  \n",
       "0  40.65236  -75.44040  \n",
       "1  32.41132  -99.68190  \n",
       "2  35.04022 -106.60919  \n",
       "3  45.44906  -98.42183  \n",
       "4  31.53552  -84.19447  "
      ]
     },
     "execution_count": 13,
     "metadata": {},
     "output_type": "execute_result"
    }
   ],
   "source": [
    "# explore airports data set and change the unknown numbers to Other category.\n",
    "df_airports.head()"
   ]
  },
  {
   "cell_type": "code",
   "execution_count": 14,
   "id": "fcd29f29-292d-4e7a-95ea-ae80cbfd7b07",
   "metadata": {},
   "outputs": [],
   "source": [
    "\n",
    "df.loc[~df.ORIGIN_AIRPORT.isin(df_airports.IATA_CODE.values),'ORIGIN_AIRPORT']='OTHER'\n",
    "df.loc[~df.DESTINATION_AIRPORT.isin(df_airports.IATA_CODE.values),'DESTINATION_AIRPORT']='OTHER'"
   ]
  },
  {
   "cell_type": "code",
   "execution_count": 15,
   "id": "aabdc6e2-db21-4226-839a-36744f44f3d6",
   "metadata": {},
   "outputs": [
    {
     "data": {
      "text/plain": [
       "['SCHEDULED_DEPARTURE',\n",
       " 'SCHEDULED_TIME',\n",
       " 'DISTANCE',\n",
       " 'SCHEDULED_ARRIVAL',\n",
       " 'DAY_OF_WEEK']"
      ]
     },
     "execution_count": 15,
     "metadata": {},
     "output_type": "execute_result"
    }
   ],
   "source": [
    "# NUMERICAL FEATURES\n",
    "\n",
    "cols_num=['SCHEDULED_DEPARTURE','SCHEDULED_TIME','DISTANCE','SCHEDULED_ARRIVAL','DAY_OF_WEEK']\n",
    "cols_num"
   ]
  },
  {
   "cell_type": "code",
   "execution_count": 16,
   "id": "5d578c67-1375-4008-b3ec-0f4d7570deb9",
   "metadata": {},
   "outputs": [
    {
     "data": {
      "text/plain": [
       "SCHEDULED_DEPARTURE    0\n",
       "SCHEDULED_TIME         0\n",
       "DISTANCE               0\n",
       "SCHEDULED_ARRIVAL      0\n",
       "DAY_OF_WEEK            0\n",
       "dtype: int64"
      ]
     },
     "execution_count": 16,
     "metadata": {},
     "output_type": "execute_result"
    }
   ],
   "source": [
    "# Check for the missing data.\n",
    "\n",
    "df[cols_num].isnull().sum()"
   ]
  },
  {
   "cell_type": "code",
   "execution_count": 17,
   "id": "a24ccab1-185e-4b62-8d49-f6483120195e",
   "metadata": {},
   "outputs": [
    {
     "data": {
      "text/plain": [
       "['AIRLINE', 'ORIGIN_AIRPORT', 'DESTINATION_AIRPORT']"
      ]
     },
     "execution_count": 17,
     "metadata": {},
     "output_type": "execute_result"
    }
   ],
   "source": [
    "\n",
    "cols_cat=['AIRLINE','ORIGIN_AIRPORT','DESTINATION_AIRPORT']\n",
    "cols_cat"
   ]
  },
  {
   "cell_type": "code",
   "execution_count": 18,
   "id": "c15efa3b-de15-4774-97e4-0d2fd907d097",
   "metadata": {},
   "outputs": [
    {
     "data": {
      "text/plain": [
       "AIRLINE                0\n",
       "ORIGIN_AIRPORT         0\n",
       "DESTINATION_AIRPORT    0\n",
       "dtype: int64"
      ]
     },
     "execution_count": 18,
     "metadata": {},
     "output_type": "execute_result"
    }
   ],
   "source": [
    "df[cols_cat].isnull().sum()"
   ]
  },
  {
   "cell_type": "code",
   "execution_count": 19,
   "id": "777b5336-048c-49d4-bcf5-5da99795243a",
   "metadata": {},
   "outputs": [
    {
     "data": {
      "text/plain": [
       "AIRLINE                 14\n",
       "ORIGIN_AIRPORT         281\n",
       "DESTINATION_AIRPORT    276\n",
       "dtype: int64"
      ]
     },
     "execution_count": 19,
     "metadata": {},
     "output_type": "execute_result"
    }
   ],
   "source": [
    "#Count the unique data.\n",
    "\n",
    "df[cols_cat].nunique()"
   ]
  },
  {
   "cell_type": "code",
   "execution_count": 20,
   "id": "09a0919a-40a6-41af-90e3-ecc5729a5339",
   "metadata": {},
   "outputs": [],
   "source": [
    "#Implement the concept of one-hot encoding.\n",
    "# convert categorical airlines variable into numeric\n",
    "\n",
    "df_cat=pd.get_dummies(df[cols_cat],drop_first=True)"
   ]
  },
  {
   "cell_type": "code",
   "execution_count": 21,
   "id": "d5ed6290-f584-4608-91df-5d90aff6ffd1",
   "metadata": {},
   "outputs": [
    {
     "data": {
      "text/html": [
       "<div>\n",
       "<style scoped>\n",
       "    .dataframe tbody tr th:only-of-type {\n",
       "        vertical-align: middle;\n",
       "    }\n",
       "\n",
       "    .dataframe tbody tr th {\n",
       "        vertical-align: top;\n",
       "    }\n",
       "\n",
       "    .dataframe thead th {\n",
       "        text-align: right;\n",
       "    }\n",
       "</style>\n",
       "<table border=\"1\" class=\"dataframe\">\n",
       "  <thead>\n",
       "    <tr style=\"text-align: right;\">\n",
       "      <th></th>\n",
       "      <th>AIRLINE_AS</th>\n",
       "      <th>AIRLINE_B6</th>\n",
       "      <th>AIRLINE_DL</th>\n",
       "      <th>AIRLINE_EV</th>\n",
       "      <th>AIRLINE_F9</th>\n",
       "      <th>AIRLINE_HA</th>\n",
       "      <th>AIRLINE_MQ</th>\n",
       "      <th>AIRLINE_NK</th>\n",
       "      <th>AIRLINE_OO</th>\n",
       "      <th>AIRLINE_UA</th>\n",
       "      <th>...</th>\n",
       "      <th>DESTINATION_AIRPORT_TVC</th>\n",
       "      <th>DESTINATION_AIRPORT_TXK</th>\n",
       "      <th>DESTINATION_AIRPORT_TYR</th>\n",
       "      <th>DESTINATION_AIRPORT_TYS</th>\n",
       "      <th>DESTINATION_AIRPORT_VLD</th>\n",
       "      <th>DESTINATION_AIRPORT_VPS</th>\n",
       "      <th>DESTINATION_AIRPORT_WYS</th>\n",
       "      <th>DESTINATION_AIRPORT_XNA</th>\n",
       "      <th>DESTINATION_AIRPORT_YAK</th>\n",
       "      <th>DESTINATION_AIRPORT_YUM</th>\n",
       "    </tr>\n",
       "  </thead>\n",
       "  <tbody>\n",
       "    <tr>\n",
       "      <th>5209445</th>\n",
       "      <td>0</td>\n",
       "      <td>0</td>\n",
       "      <td>0</td>\n",
       "      <td>0</td>\n",
       "      <td>0</td>\n",
       "      <td>0</td>\n",
       "      <td>1</td>\n",
       "      <td>0</td>\n",
       "      <td>0</td>\n",
       "      <td>0</td>\n",
       "      <td>...</td>\n",
       "      <td>0</td>\n",
       "      <td>0</td>\n",
       "      <td>0</td>\n",
       "      <td>0</td>\n",
       "      <td>0</td>\n",
       "      <td>0</td>\n",
       "      <td>0</td>\n",
       "      <td>0</td>\n",
       "      <td>0</td>\n",
       "      <td>0</td>\n",
       "    </tr>\n",
       "    <tr>\n",
       "      <th>3365110</th>\n",
       "      <td>0</td>\n",
       "      <td>0</td>\n",
       "      <td>0</td>\n",
       "      <td>0</td>\n",
       "      <td>0</td>\n",
       "      <td>0</td>\n",
       "      <td>0</td>\n",
       "      <td>0</td>\n",
       "      <td>0</td>\n",
       "      <td>1</td>\n",
       "      <td>...</td>\n",
       "      <td>0</td>\n",
       "      <td>0</td>\n",
       "      <td>0</td>\n",
       "      <td>0</td>\n",
       "      <td>0</td>\n",
       "      <td>0</td>\n",
       "      <td>0</td>\n",
       "      <td>0</td>\n",
       "      <td>0</td>\n",
       "      <td>0</td>\n",
       "    </tr>\n",
       "    <tr>\n",
       "      <th>4329813</th>\n",
       "      <td>0</td>\n",
       "      <td>0</td>\n",
       "      <td>0</td>\n",
       "      <td>0</td>\n",
       "      <td>0</td>\n",
       "      <td>0</td>\n",
       "      <td>0</td>\n",
       "      <td>0</td>\n",
       "      <td>1</td>\n",
       "      <td>0</td>\n",
       "      <td>...</td>\n",
       "      <td>0</td>\n",
       "      <td>0</td>\n",
       "      <td>0</td>\n",
       "      <td>0</td>\n",
       "      <td>0</td>\n",
       "      <td>0</td>\n",
       "      <td>0</td>\n",
       "      <td>0</td>\n",
       "      <td>0</td>\n",
       "      <td>0</td>\n",
       "    </tr>\n",
       "    <tr>\n",
       "      <th>3592708</th>\n",
       "      <td>0</td>\n",
       "      <td>0</td>\n",
       "      <td>0</td>\n",
       "      <td>1</td>\n",
       "      <td>0</td>\n",
       "      <td>0</td>\n",
       "      <td>0</td>\n",
       "      <td>0</td>\n",
       "      <td>0</td>\n",
       "      <td>0</td>\n",
       "      <td>...</td>\n",
       "      <td>0</td>\n",
       "      <td>0</td>\n",
       "      <td>0</td>\n",
       "      <td>0</td>\n",
       "      <td>0</td>\n",
       "      <td>0</td>\n",
       "      <td>0</td>\n",
       "      <td>0</td>\n",
       "      <td>0</td>\n",
       "      <td>0</td>\n",
       "    </tr>\n",
       "    <tr>\n",
       "      <th>2301135</th>\n",
       "      <td>0</td>\n",
       "      <td>0</td>\n",
       "      <td>0</td>\n",
       "      <td>1</td>\n",
       "      <td>0</td>\n",
       "      <td>0</td>\n",
       "      <td>0</td>\n",
       "      <td>0</td>\n",
       "      <td>0</td>\n",
       "      <td>0</td>\n",
       "      <td>...</td>\n",
       "      <td>0</td>\n",
       "      <td>0</td>\n",
       "      <td>0</td>\n",
       "      <td>0</td>\n",
       "      <td>0</td>\n",
       "      <td>0</td>\n",
       "      <td>0</td>\n",
       "      <td>0</td>\n",
       "      <td>0</td>\n",
       "      <td>0</td>\n",
       "    </tr>\n",
       "  </tbody>\n",
       "</table>\n",
       "<p>5 rows × 568 columns</p>\n",
       "</div>"
      ],
      "text/plain": [
       "         AIRLINE_AS  AIRLINE_B6  AIRLINE_DL  AIRLINE_EV  AIRLINE_F9  \\\n",
       "5209445           0           0           0           0           0   \n",
       "3365110           0           0           0           0           0   \n",
       "4329813           0           0           0           0           0   \n",
       "3592708           0           0           0           1           0   \n",
       "2301135           0           0           0           1           0   \n",
       "\n",
       "         AIRLINE_HA  AIRLINE_MQ  AIRLINE_NK  AIRLINE_OO  AIRLINE_UA  ...  \\\n",
       "5209445           0           1           0           0           0  ...   \n",
       "3365110           0           0           0           0           1  ...   \n",
       "4329813           0           0           0           1           0  ...   \n",
       "3592708           0           0           0           0           0  ...   \n",
       "2301135           0           0           0           0           0  ...   \n",
       "\n",
       "         DESTINATION_AIRPORT_TVC  DESTINATION_AIRPORT_TXK  \\\n",
       "5209445                        0                        0   \n",
       "3365110                        0                        0   \n",
       "4329813                        0                        0   \n",
       "3592708                        0                        0   \n",
       "2301135                        0                        0   \n",
       "\n",
       "         DESTINATION_AIRPORT_TYR  DESTINATION_AIRPORT_TYS  \\\n",
       "5209445                        0                        0   \n",
       "3365110                        0                        0   \n",
       "4329813                        0                        0   \n",
       "3592708                        0                        0   \n",
       "2301135                        0                        0   \n",
       "\n",
       "         DESTINATION_AIRPORT_VLD  DESTINATION_AIRPORT_VPS  \\\n",
       "5209445                        0                        0   \n",
       "3365110                        0                        0   \n",
       "4329813                        0                        0   \n",
       "3592708                        0                        0   \n",
       "2301135                        0                        0   \n",
       "\n",
       "         DESTINATION_AIRPORT_WYS  DESTINATION_AIRPORT_XNA  \\\n",
       "5209445                        0                        0   \n",
       "3365110                        0                        0   \n",
       "4329813                        0                        0   \n",
       "3592708                        0                        0   \n",
       "2301135                        0                        0   \n",
       "\n",
       "         DESTINATION_AIRPORT_YAK  DESTINATION_AIRPORT_YUM  \n",
       "5209445                        0                        0  \n",
       "3365110                        0                        0  \n",
       "4329813                        0                        0  \n",
       "3592708                        0                        0  \n",
       "2301135                        0                        0  \n",
       "\n",
       "[5 rows x 568 columns]"
      ]
     },
     "execution_count": 21,
     "metadata": {},
     "output_type": "execute_result"
    }
   ],
   "source": [
    "df_cat.head()"
   ]
  },
  {
   "cell_type": "code",
   "execution_count": 43,
   "id": "0749bae2-b6fc-4bca-8004-23de5cc809b7",
   "metadata": {},
   "outputs": [],
   "source": [
    "# concat airlies data with df\n",
    "\n",
    "df=pd.concat([df,df_cat],axis=1)"
   ]
  },
  {
   "cell_type": "code",
   "execution_count": 44,
   "id": "826dc09d-ad20-4f70-a443-039cb040d731",
   "metadata": {},
   "outputs": [
    {
     "name": "stdout",
     "output_type": "stream",
     "text": [
      "number of categorical: 568\n"
     ]
    }
   ],
   "source": [
    "cols_all_cat = list(df_cat.columns)\n",
    "print('number of categorical:',len(cols_all_cat))"
   ]
  },
  {
   "cell_type": "markdown",
   "id": "03027cc8-5964-4590-9b33-c9796f6ca4a2",
   "metadata": {},
   "source": [
    "<b> We have created 656 features for our machine learning models. They are divided as follows:\n",
    "    6 Numerical Features\n",
    "   650 categorical Features </b>"
   ]
  },
  {
   "cell_type": "code",
   "execution_count": 24,
   "id": "36662051-c710-48c3-8d0b-eeb8f40d0ee2",
   "metadata": {},
   "outputs": [
    {
     "data": {
      "text/html": [
       "<div>\n",
       "<style scoped>\n",
       "    .dataframe tbody tr th:only-of-type {\n",
       "        vertical-align: middle;\n",
       "    }\n",
       "\n",
       "    .dataframe tbody tr th {\n",
       "        vertical-align: top;\n",
       "    }\n",
       "\n",
       "    .dataframe thead th {\n",
       "        text-align: right;\n",
       "    }\n",
       "</style>\n",
       "<table border=\"1\" class=\"dataframe\">\n",
       "  <thead>\n",
       "    <tr style=\"text-align: right;\">\n",
       "      <th></th>\n",
       "      <th>SCHEDULED_DEPARTURE</th>\n",
       "      <th>SCHEDULED_TIME</th>\n",
       "      <th>DISTANCE</th>\n",
       "      <th>SCHEDULED_ARRIVAL</th>\n",
       "      <th>DAY_OF_WEEK</th>\n",
       "      <th>AIRLINE_AS</th>\n",
       "      <th>AIRLINE_B6</th>\n",
       "      <th>AIRLINE_DL</th>\n",
       "      <th>AIRLINE_EV</th>\n",
       "      <th>AIRLINE_F9</th>\n",
       "      <th>...</th>\n",
       "      <th>DESTINATION_AIRPORT_TXK</th>\n",
       "      <th>DESTINATION_AIRPORT_TYR</th>\n",
       "      <th>DESTINATION_AIRPORT_TYS</th>\n",
       "      <th>DESTINATION_AIRPORT_VLD</th>\n",
       "      <th>DESTINATION_AIRPORT_VPS</th>\n",
       "      <th>DESTINATION_AIRPORT_WYS</th>\n",
       "      <th>DESTINATION_AIRPORT_XNA</th>\n",
       "      <th>DESTINATION_AIRPORT_YAK</th>\n",
       "      <th>DESTINATION_AIRPORT_YUM</th>\n",
       "      <th>OUTPUT_LABEL</th>\n",
       "    </tr>\n",
       "  </thead>\n",
       "  <tbody>\n",
       "    <tr>\n",
       "      <th>5209445</th>\n",
       "      <td>1150</td>\n",
       "      <td>84.0</td>\n",
       "      <td>383</td>\n",
       "      <td>1314</td>\n",
       "      <td>7</td>\n",
       "      <td>0</td>\n",
       "      <td>0</td>\n",
       "      <td>0</td>\n",
       "      <td>0</td>\n",
       "      <td>0</td>\n",
       "      <td>...</td>\n",
       "      <td>0</td>\n",
       "      <td>0</td>\n",
       "      <td>0</td>\n",
       "      <td>0</td>\n",
       "      <td>0</td>\n",
       "      <td>0</td>\n",
       "      <td>0</td>\n",
       "      <td>0</td>\n",
       "      <td>0</td>\n",
       "      <td>0</td>\n",
       "    </tr>\n",
       "    <tr>\n",
       "      <th>3365110</th>\n",
       "      <td>1151</td>\n",
       "      <td>248.0</td>\n",
       "      <td>1744</td>\n",
       "      <td>1759</td>\n",
       "      <td>3</td>\n",
       "      <td>0</td>\n",
       "      <td>0</td>\n",
       "      <td>0</td>\n",
       "      <td>0</td>\n",
       "      <td>0</td>\n",
       "      <td>...</td>\n",
       "      <td>0</td>\n",
       "      <td>0</td>\n",
       "      <td>0</td>\n",
       "      <td>0</td>\n",
       "      <td>0</td>\n",
       "      <td>0</td>\n",
       "      <td>0</td>\n",
       "      <td>0</td>\n",
       "      <td>0</td>\n",
       "      <td>1</td>\n",
       "    </tr>\n",
       "    <tr>\n",
       "      <th>4329813</th>\n",
       "      <td>1430</td>\n",
       "      <td>189.0</td>\n",
       "      <td>1195</td>\n",
       "      <td>1639</td>\n",
       "      <td>7</td>\n",
       "      <td>0</td>\n",
       "      <td>0</td>\n",
       "      <td>0</td>\n",
       "      <td>0</td>\n",
       "      <td>0</td>\n",
       "      <td>...</td>\n",
       "      <td>0</td>\n",
       "      <td>0</td>\n",
       "      <td>0</td>\n",
       "      <td>0</td>\n",
       "      <td>0</td>\n",
       "      <td>0</td>\n",
       "      <td>0</td>\n",
       "      <td>0</td>\n",
       "      <td>0</td>\n",
       "      <td>1</td>\n",
       "    </tr>\n",
       "    <tr>\n",
       "      <th>3592708</th>\n",
       "      <td>1943</td>\n",
       "      <td>149.0</td>\n",
       "      <td>841</td>\n",
       "      <td>2112</td>\n",
       "      <td>2</td>\n",
       "      <td>0</td>\n",
       "      <td>0</td>\n",
       "      <td>0</td>\n",
       "      <td>1</td>\n",
       "      <td>0</td>\n",
       "      <td>...</td>\n",
       "      <td>0</td>\n",
       "      <td>0</td>\n",
       "      <td>0</td>\n",
       "      <td>0</td>\n",
       "      <td>0</td>\n",
       "      <td>0</td>\n",
       "      <td>0</td>\n",
       "      <td>0</td>\n",
       "      <td>0</td>\n",
       "      <td>0</td>\n",
       "    </tr>\n",
       "    <tr>\n",
       "      <th>2301135</th>\n",
       "      <td>1747</td>\n",
       "      <td>77.0</td>\n",
       "      <td>306</td>\n",
       "      <td>1904</td>\n",
       "      <td>2</td>\n",
       "      <td>0</td>\n",
       "      <td>0</td>\n",
       "      <td>0</td>\n",
       "      <td>1</td>\n",
       "      <td>0</td>\n",
       "      <td>...</td>\n",
       "      <td>0</td>\n",
       "      <td>0</td>\n",
       "      <td>0</td>\n",
       "      <td>0</td>\n",
       "      <td>0</td>\n",
       "      <td>0</td>\n",
       "      <td>0</td>\n",
       "      <td>0</td>\n",
       "      <td>0</td>\n",
       "      <td>1</td>\n",
       "    </tr>\n",
       "  </tbody>\n",
       "</table>\n",
       "<p>5 rows × 574 columns</p>\n",
       "</div>"
      ],
      "text/plain": [
       "         SCHEDULED_DEPARTURE  SCHEDULED_TIME  DISTANCE  SCHEDULED_ARRIVAL  \\\n",
       "5209445                 1150            84.0       383               1314   \n",
       "3365110                 1151           248.0      1744               1759   \n",
       "4329813                 1430           189.0      1195               1639   \n",
       "3592708                 1943           149.0       841               2112   \n",
       "2301135                 1747            77.0       306               1904   \n",
       "\n",
       "         DAY_OF_WEEK  AIRLINE_AS  AIRLINE_B6  AIRLINE_DL  AIRLINE_EV  \\\n",
       "5209445            7           0           0           0           0   \n",
       "3365110            3           0           0           0           0   \n",
       "4329813            7           0           0           0           0   \n",
       "3592708            2           0           0           0           1   \n",
       "2301135            2           0           0           0           1   \n",
       "\n",
       "         AIRLINE_F9  ...  DESTINATION_AIRPORT_TXK  DESTINATION_AIRPORT_TYR  \\\n",
       "5209445           0  ...                        0                        0   \n",
       "3365110           0  ...                        0                        0   \n",
       "4329813           0  ...                        0                        0   \n",
       "3592708           0  ...                        0                        0   \n",
       "2301135           0  ...                        0                        0   \n",
       "\n",
       "         DESTINATION_AIRPORT_TYS  DESTINATION_AIRPORT_VLD  \\\n",
       "5209445                        0                        0   \n",
       "3365110                        0                        0   \n",
       "4329813                        0                        0   \n",
       "3592708                        0                        0   \n",
       "2301135                        0                        0   \n",
       "\n",
       "         DESTINATION_AIRPORT_VPS  DESTINATION_AIRPORT_WYS  \\\n",
       "5209445                        0                        0   \n",
       "3365110                        0                        0   \n",
       "4329813                        0                        0   \n",
       "3592708                        0                        0   \n",
       "2301135                        0                        0   \n",
       "\n",
       "         DESTINATION_AIRPORT_XNA  DESTINATION_AIRPORT_YAK  \\\n",
       "5209445                        0                        0   \n",
       "3365110                        0                        0   \n",
       "4329813                        0                        0   \n",
       "3592708                        0                        0   \n",
       "2301135                        0                        0   \n",
       "\n",
       "         DESTINATION_AIRPORT_YUM  OUTPUT_LABEL  \n",
       "5209445                        0             0  \n",
       "3365110                        0             1  \n",
       "4329813                        0             1  \n",
       "3592708                        0             0  \n",
       "2301135                        0             1  \n",
       "\n",
       "[5 rows x 574 columns]"
      ]
     },
     "execution_count": 24,
     "metadata": {},
     "output_type": "execute_result"
    }
   ],
   "source": [
    "#create new data for the new features.\n",
    "\n",
    "cols_input= cols_num +cols_all_cat\n",
    "df_data = df[cols_input +['OUTPUT_LABEL']]\n",
    "df_data.head()"
   ]
  },
  {
   "cell_type": "code",
   "execution_count": null,
   "id": "07a56dc8-cde4-4ef7-bc85-183c3bc1e031",
   "metadata": {},
   "outputs": [],
   "source": [
    "# We split the data to get an idea on how our model will perform on unseen data.\n",
    "# which will be test data.\n",
    "# training data 70%\n",
    "# validation data-15%"
   ]
  },
  {
   "cell_type": "code",
   "execution_count": 25,
   "id": "e815205f-a86a-432d-bebc-3b20a8629305",
   "metadata": {},
   "outputs": [],
   "source": [
    "# shuffle the data\n",
    "df_data =df_data.sample(n=len(df_data))\n",
    "df_data =df_data.reset_index(drop =True)"
   ]
  },
  {
   "cell_type": "code",
   "execution_count": 26,
   "id": "975a33f9-a4b0-491b-825c-e3169a7ee388",
   "metadata": {},
   "outputs": [
    {
     "name": "stdout",
     "output_type": "stream",
     "text": [
      "Split size: 0.300\n"
     ]
    }
   ],
   "source": [
    "#split validation data to 30%\n",
    "df_valid_test = df_data.sample(frac=0.30)\n",
    "print('Split size: %.3f'%(len(df_valid_test)/len(df_data)))"
   ]
  },
  {
   "cell_type": "code",
   "execution_count": 27,
   "id": "f3cffe9c-e7c0-48ad-9bdc-f2eaa28743b5",
   "metadata": {},
   "outputs": [],
   "source": [
    "# Again split the data to 50% for testing and validation\n",
    "df_test = df_valid_test.sample(frac =0.5)\n",
    "df_valid =df_valid_test.drop(df_test.index)"
   ]
  },
  {
   "cell_type": "code",
   "execution_count": 28,
   "id": "fa75c4b0-5f66-4022-bf5c-88368169dbb7",
   "metadata": {},
   "outputs": [],
   "source": [
    "df_train_all = df_data.drop(df_valid_test.index)"
   ]
  },
  {
   "cell_type": "code",
   "execution_count": 29,
   "id": "066e0540-a70c-4efa-8f58-0065fc3e7576",
   "metadata": {},
   "outputs": [
    {
     "name": "stdout",
     "output_type": "stream",
     "text": [
      "Test prevalence(n = 1477):0.430\n",
      "Valid prevalence(n = 1477):0.416\n",
      "Train all prevalence(n = 6894):0.436\n"
     ]
    }
   ],
   "source": [
    "# Calculate the prevalence\n",
    "\n",
    "print('Test prevalence(n = %d):%.3f'%(len(df_test),calc_prevalence(df_test.OUTPUT_LABEL.values)))\n",
    "print('Valid prevalence(n = %d):%.3f'%(len(df_valid),calc_prevalence(df_valid.OUTPUT_LABEL.values)))\n",
    "print('Train all prevalence(n = %d):%.3f'%(len(df_train_all),calc_prevalence(df_train_all.OUTPUT_LABEL.values)))\n"
   ]
  },
  {
   "cell_type": "code",
   "execution_count": 30,
   "id": "d087ab6e-e2c9-4cf9-8450-e01199385f4b",
   "metadata": {},
   "outputs": [
    {
     "name": "stdout",
     "output_type": "stream",
     "text": [
      "Train balanced prevalence(n= 6008):0.500\n"
     ]
    }
   ],
   "source": [
    "# Need to balance the data to give more weight to the positive samples.\n",
    "# Create a balanced training data set with 50% of both positive and negative samples. \n",
    "\n",
    "rows_pos = df_train_all.OUTPUT_LABEL == 1\n",
    "df_train_pos =df_train_all.loc[rows_pos]\n",
    "df_train_neg =df_train_all.loc[~rows_pos]\n",
    "\n",
    "df_train = pd.concat([df_train_pos,df_train_neg.sample(n = len(df_train_pos))],axis=0)\n",
    "\n",
    "df_train =df_train.sample(n=len(df_train)).reset_index(drop=True)\n",
    "\n",
    "print('Train balanced prevalence(n= %d):%.3f'%(len(df_train),calc_prevalence(df_train.OUTPUT_LABEL.values)))"
   ]
  },
  {
   "cell_type": "code",
   "execution_count": 31,
   "id": "9d49b711-4625-47bd-82cf-629c36adfd73",
   "metadata": {},
   "outputs": [
    {
     "name": "stdout",
     "output_type": "stream",
     "text": [
      "Training All shapes: (6894, 573)\n",
      "Training shapes: (6008, 573) (6008,)\n",
      "Validation shapes:  (1477, 573) (1477,)\n"
     ]
    }
   ],
   "source": [
    "# Build X and Y input matrices for our machine learning package.\n",
    "X_train = df_train[cols_input].values\n",
    "X_train_all = df_train_all[cols_input].values\n",
    "X_valid = df_valid[cols_input].values\n",
    "\n",
    "y_train = df_train['OUTPUT_LABEL'].values\n",
    "y_valid = df_valid['OUTPUT_LABEL'].values\n",
    "\n",
    "print('Training All shapes:',X_train_all.shape)\n",
    "print('Training shapes:',X_train.shape, y_train.shape)\n",
    "print('Validation shapes: ',X_valid.shape, y_valid.shape)"
   ]
  },
  {
   "cell_type": "code",
   "execution_count": 32,
   "id": "b27527e3-e0a6-4a5b-85c4-08afa67e5d09",
   "metadata": {},
   "outputs": [
    {
     "name": "stderr",
     "output_type": "stream",
     "text": [
      "/home/jupyterlab/conda/envs/python/lib/python3.7/site-packages/sklearn/utils/validation.py:37: DeprecationWarning: distutils Version classes are deprecated. Use packaging.version instead.\n",
      "  LARGE_SPARSE_SUPPORTED = LooseVersion(scipy_version) >= '0.14.0'\n"
     ]
    },
    {
     "data": {
      "text/plain": [
       "StandardScaler(copy=True, with_mean=True, with_std=True)"
      ]
     },
     "execution_count": 32,
     "metadata": {},
     "output_type": "execute_result"
    }
   ],
   "source": [
    "# StandardScaler removes the mean and scales each feature/variable to unit variance.\n",
    "\n",
    "from sklearn.preprocessing import StandardScaler\n",
    "\n",
    "scaler =StandardScaler()\n",
    "scaler.fit(X_train_all)"
   ]
  },
  {
   "cell_type": "code",
   "execution_count": 33,
   "id": "64762e8a-6f79-4bdc-bcae-55c02eb26d82",
   "metadata": {},
   "outputs": [],
   "source": [
    "# scaler data will be used for the test data at a later stage of the project.\n",
    "import pickle\n",
    "scalerfile ='scaler.sav'\n",
    "pickle.dump(scaler, open(scalerfile,'wb'))"
   ]
  },
  {
   "cell_type": "code",
   "execution_count": 34,
   "id": "0cea5301-04ce-45f9-9415-21db423fd3f2",
   "metadata": {},
   "outputs": [],
   "source": [
    "scaler = pickle.load(open(scalerfile, 'rb'))"
   ]
  },
  {
   "cell_type": "code",
   "execution_count": 35,
   "id": "a96b1485-586b-46cd-b14b-b772e057f219",
   "metadata": {},
   "outputs": [],
   "source": [
    "X_train_tf = scaler.transform(X_train)\n",
    "X_valid_tf = scaler.transform(X_valid)"
   ]
  },
  {
   "cell_type": "code",
   "execution_count": 36,
   "id": "a9591e0f-2a9d-460c-886a-2c160f7f461b",
   "metadata": {},
   "outputs": [],
   "source": [
    "#The models will be evaluated on different performance metrics \n",
    "from sklearn.metrics import roc_auc_score, accuracy_score, precision_score, recall_score\n",
    "def calc_specificity(y_actual, y_pred, thresh):\n",
    "    \n",
    "    return sum((y_pred < thresh) & (y_actual == 0)) /sum(y_actual == 0)\n",
    "\n",
    "def print_report(y_actual, y_pred, thresh):\n",
    "    \n",
    "    auc = roc_auc_score(y_actual, y_pred)\n",
    "    accuracy = accuracy_score(y_actual,(y_pred > thresh))\n",
    "    recall = recall_score(y_actual,(y_pred > thresh))\n",
    "    precision = precision_score(y_actual,(y_pred > thresh))\n",
    "    specificity = calc_specificity(y_actual, y_pred, thresh)\n",
    " \n",
    "    \n",
    "    print('AUC:%.3f'%auc)\n",
    "    print('accuracy:%.3f'%accuracy)\n",
    "    print('recall:%.3f'%recall)\n",
    "    print('precision:%.3f'%precision)\n",
    "    print('specificity:%.3f'%specificity)\n",
    "    print('prevalence:%.3f'%calc_prevalence(y_actual))\n",
    "    print('')\n",
    "    return auc, aaacuracy, recall, precision, specificity    "
   ]
  },
  {
   "cell_type": "code",
   "execution_count": 37,
   "id": "47c740fc-f69e-4a24-9d52-5914c4b53b84",
   "metadata": {},
   "outputs": [],
   "source": [
    "thresh = 0.5"
   ]
  },
  {
   "cell_type": "code",
   "execution_count": 38,
   "id": "75a313c9-8012-46f4-8a87-3464a336ff35",
   "metadata": {
    "collapsed": true,
    "jupyter": {
     "outputs_hidden": true
    },
    "tags": []
   },
   "outputs": [
    {
     "name": "stderr",
     "output_type": "stream",
     "text": [
      "/home/jupyterlab/conda/envs/python/lib/python3.7/site-packages/sklearn/linear_model/least_angle.py:35: DeprecationWarning: `np.float` is a deprecated alias for the builtin `float`. To silence this warning, use `float` by itself. Doing this will not modify any behavior and is safe. If you specifically wanted the numpy scalar type, use `np.float64` here.\n",
      "Deprecated in NumPy 1.20; for more details and guidance: https://numpy.org/devdocs/release/1.20.0-notes.html#deprecations\n",
      "  eps=np.finfo(np.float).eps,\n",
      "/home/jupyterlab/conda/envs/python/lib/python3.7/site-packages/sklearn/linear_model/least_angle.py:597: DeprecationWarning: `np.float` is a deprecated alias for the builtin `float`. To silence this warning, use `float` by itself. Doing this will not modify any behavior and is safe. If you specifically wanted the numpy scalar type, use `np.float64` here.\n",
      "Deprecated in NumPy 1.20; for more details and guidance: https://numpy.org/devdocs/release/1.20.0-notes.html#deprecations\n",
      "  eps=np.finfo(np.float).eps, copy_X=True, fit_path=True,\n",
      "/home/jupyterlab/conda/envs/python/lib/python3.7/site-packages/sklearn/linear_model/least_angle.py:836: DeprecationWarning: `np.float` is a deprecated alias for the builtin `float`. To silence this warning, use `float` by itself. Doing this will not modify any behavior and is safe. If you specifically wanted the numpy scalar type, use `np.float64` here.\n",
      "Deprecated in NumPy 1.20; for more details and guidance: https://numpy.org/devdocs/release/1.20.0-notes.html#deprecations\n",
      "  eps=np.finfo(np.float).eps, copy_X=True, fit_path=True,\n",
      "/home/jupyterlab/conda/envs/python/lib/python3.7/site-packages/sklearn/linear_model/least_angle.py:862: DeprecationWarning: `np.float` is a deprecated alias for the builtin `float`. To silence this warning, use `float` by itself. Doing this will not modify any behavior and is safe. If you specifically wanted the numpy scalar type, use `np.float64` here.\n",
      "Deprecated in NumPy 1.20; for more details and guidance: https://numpy.org/devdocs/release/1.20.0-notes.html#deprecations\n",
      "  eps=np.finfo(np.float).eps, positive=False):\n",
      "/home/jupyterlab/conda/envs/python/lib/python3.7/site-packages/sklearn/linear_model/least_angle.py:1097: DeprecationWarning: `np.float` is a deprecated alias for the builtin `float`. To silence this warning, use `float` by itself. Doing this will not modify any behavior and is safe. If you specifically wanted the numpy scalar type, use `np.float64` here.\n",
      "Deprecated in NumPy 1.20; for more details and guidance: https://numpy.org/devdocs/release/1.20.0-notes.html#deprecations\n",
      "  max_n_alphas=1000, n_jobs=None, eps=np.finfo(np.float).eps,\n",
      "/home/jupyterlab/conda/envs/python/lib/python3.7/site-packages/sklearn/linear_model/least_angle.py:1344: DeprecationWarning: `np.float` is a deprecated alias for the builtin `float`. To silence this warning, use `float` by itself. Doing this will not modify any behavior and is safe. If you specifically wanted the numpy scalar type, use `np.float64` here.\n",
      "Deprecated in NumPy 1.20; for more details and guidance: https://numpy.org/devdocs/release/1.20.0-notes.html#deprecations\n",
      "  max_n_alphas=1000, n_jobs=None, eps=np.finfo(np.float).eps,\n",
      "/home/jupyterlab/conda/envs/python/lib/python3.7/site-packages/sklearn/linear_model/least_angle.py:1480: DeprecationWarning: `np.float` is a deprecated alias for the builtin `float`. To silence this warning, use `float` by itself. Doing this will not modify any behavior and is safe. If you specifically wanted the numpy scalar type, use `np.float64` here.\n",
      "Deprecated in NumPy 1.20; for more details and guidance: https://numpy.org/devdocs/release/1.20.0-notes.html#deprecations\n",
      "  eps=np.finfo(np.float).eps, copy_X=True, positive=False):\n",
      "/home/jupyterlab/conda/envs/python/lib/python3.7/site-packages/sklearn/linear_model/randomized_l1.py:152: DeprecationWarning: `np.float` is a deprecated alias for the builtin `float`. To silence this warning, use `float` by itself. Doing this will not modify any behavior and is safe. If you specifically wanted the numpy scalar type, use `np.float64` here.\n",
      "Deprecated in NumPy 1.20; for more details and guidance: https://numpy.org/devdocs/release/1.20.0-notes.html#deprecations\n",
      "  precompute=False, eps=np.finfo(np.float).eps,\n",
      "/home/jupyterlab/conda/envs/python/lib/python3.7/site-packages/sklearn/linear_model/randomized_l1.py:320: DeprecationWarning: `np.float` is a deprecated alias for the builtin `float`. To silence this warning, use `float` by itself. Doing this will not modify any behavior and is safe. If you specifically wanted the numpy scalar type, use `np.float64` here.\n",
      "Deprecated in NumPy 1.20; for more details and guidance: https://numpy.org/devdocs/release/1.20.0-notes.html#deprecations\n",
      "  eps=np.finfo(np.float).eps, random_state=None,\n",
      "/home/jupyterlab/conda/envs/python/lib/python3.7/site-packages/sklearn/linear_model/randomized_l1.py:580: DeprecationWarning: `np.float` is a deprecated alias for the builtin `float`. To silence this warning, use `float` by itself. Doing this will not modify any behavior and is safe. If you specifically wanted the numpy scalar type, use `np.float64` here.\n",
      "Deprecated in NumPy 1.20; for more details and guidance: https://numpy.org/devdocs/release/1.20.0-notes.html#deprecations\n",
      "  eps=4 * np.finfo(np.float).eps, n_jobs=None,\n",
      "/home/jupyterlab/conda/envs/python/lib/python3.7/site-packages/sklearn/linear_model/logistic.py:433: FutureWarning: Default solver will be changed to 'lbfgs' in 0.22. Specify a solver to silence this warning.\n",
      "  FutureWarning)\n"
     ]
    },
    {
     "data": {
      "text/plain": [
       "LogisticRegression(C=1.0, class_weight=None, dual=False, fit_intercept=True,\n",
       "          intercept_scaling=1, max_iter=100, multi_class='warn',\n",
       "          n_jobs=None, penalty='l2', random_state=None, solver='warn',\n",
       "          tol=0.0001, verbose=0, warm_start=False)"
      ]
     },
     "execution_count": 38,
     "metadata": {},
     "output_type": "execute_result"
    }
   ],
   "source": [
    "# Logistic regression\n",
    "from sklearn.linear_model import LogisticRegression\n",
    "lr= LogisticRegression()\n",
    "lr.fit(X_train_tf, y_train)"
   ]
  },
  {
   "cell_type": "code",
   "execution_count": 62,
   "id": "9f3b1a72-8dd5-4b7a-90b3-a3877d6f6539",
   "metadata": {
    "tags": []
   },
   "outputs": [
    {
     "name": "stderr",
     "output_type": "stream",
     "text": [
      "/home/jupyterlab/conda/envs/python/lib/python3.7/site-packages/sklearn/linear_model/base.py:283: DeprecationWarning: `np.int` is a deprecated alias for the builtin `int`. To silence this warning, use `int` by itself. Doing this will not modify any behavior and is safe. When replacing `np.int`, you may wish to use e.g. `np.int64` or `np.int32` to specify the precision. If you wish to review your current use, check the release note link for additional information.\n",
      "Deprecated in NumPy 1.20; for more details and guidance: https://numpy.org/devdocs/release/1.20.0-notes.html#deprecations\n",
      "  indices = (scores > 0).astype(np.int)\n"
     ]
    },
    {
     "data": {
      "text/plain": [
       "array([1, 1, 1, ..., 1, 1, 1])"
      ]
     },
     "execution_count": 62,
     "metadata": {},
     "output_type": "execute_result"
    }
   ],
   "source": [
    "lr.predict(X_train)"
   ]
  },
  {
   "cell_type": "code",
   "execution_count": 61,
   "id": "9bc7b907-f833-4596-85c0-d4e2c0da45b3",
   "metadata": {
    "tags": []
   },
   "outputs": [
    {
     "name": "stderr",
     "output_type": "stream",
     "text": [
      "/home/jupyterlab/conda/envs/python/lib/python3.7/site-packages/sklearn/linear_model/base.py:283: DeprecationWarning: `np.int` is a deprecated alias for the builtin `int`. To silence this warning, use `int` by itself. Doing this will not modify any behavior and is safe. When replacing `np.int`, you may wish to use e.g. `np.int64` or `np.int32` to specify the precision. If you wish to review your current use, check the release note link for additional information.\n",
      "Deprecated in NumPy 1.20; for more details and guidance: https://numpy.org/devdocs/release/1.20.0-notes.html#deprecations\n",
      "  indices = (scores > 0).astype(np.int)\n"
     ]
    },
    {
     "data": {
      "text/plain": [
       "0.5680433310765064"
      ]
     },
     "execution_count": 61,
     "metadata": {},
     "output_type": "execute_result"
    }
   ],
   "source": [
    "lr.score(X_valid_tf,y_valid)"
   ]
  },
  {
   "cell_type": "code",
   "execution_count": null,
   "id": "7a1c93fc-fd2d-41c4-97aa-1cc4287b83d7",
   "metadata": {},
   "outputs": [],
   "source": []
  }
 ],
 "metadata": {
  "kernelspec": {
   "display_name": "Python",
   "language": "python",
   "name": "conda-env-python-py"
  },
  "language_info": {
   "codemirror_mode": {
    "name": "ipython",
    "version": 3
   },
   "file_extension": ".py",
   "mimetype": "text/x-python",
   "name": "python",
   "nbconvert_exporter": "python",
   "pygments_lexer": "ipython3",
   "version": "3.7.12"
  }
 },
 "nbformat": 4,
 "nbformat_minor": 5
}
